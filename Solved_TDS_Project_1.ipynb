{
  "nbformat": 4,
  "nbformat_minor": 0,
  "metadata": {
    "colab": {
      "provenance": []
    },
    "kernelspec": {
      "name": "python3",
      "display_name": "Python 3"
    },
    "language_info": {
      "name": "python"
    }
  },
  "cells": [
    {
      "cell_type": "markdown",
      "source": [
        "Question 1:"
      ],
      "metadata": {
        "id": "fZnzMDQUKPsz"
      }
    },
    {
      "cell_type": "code",
      "source": [
        "import csv\n",
        "# Define the list to store users from zurich\n",
        "users_in_zurich = []\n",
        "\n",
        "# Read the CSV file with UTF-8 encoding\n",
        "with open('users.csv', 'r', encoding='utf-8') as file:\n",
        "    reader = csv.DictReader(file)\n",
        "    for row in reader:\n",
        "        location = row['location'].strip().lower()\n",
        "        # Check if the user is from zurich\n",
        "        if 'zurich' in location:\n",
        "            users_in_zurich.append({\n",
        "                'login': row['login'],\n",
        "                'followers': int(row['followers'])\n",
        "            })\n",
        "\n",
        "# Sort users based on followers in descending order\n",
        "top_users = sorted(users_in_zurich, key=lambda x: x['followers'], reverse=True)\n",
        "\n",
        "# Extract the top 5 user logins\n",
        "top_5_logins = [user['login'] for user in top_users[:5]]\n",
        "\n",
        "# Print the result as a comma-separated list\n",
        "print(','.join(top_5_logins))"
      ],
      "metadata": {
        "colab": {
          "base_uri": "https://localhost:8080/"
        },
        "id": "04XNqy6UwJ6k",
        "outputId": "d9a6f15f-aa78-4364-d009-6bf2e8c781fc"
      },
      "execution_count": null,
      "outputs": [
        {
          "output_type": "stream",
          "name": "stdout",
          "text": [
            "IDouble,TheOfficialFloW,Seldaek,riscv,JonnyBurger\n"
          ]
        }
      ]
    },
    {
      "cell_type": "markdown",
      "source": [
        "Question 2:"
      ],
      "metadata": {
        "id": "3aqQr-xOKbFr"
      }
    },
    {
      "cell_type": "code",
      "source": [
        "import csv\n",
        "from datetime import datetime\n",
        "\n",
        "# Define the list to store users from zurich\n",
        "users_in_zurich = []\n",
        "\n",
        "# Read the CSV file with UTF-8 encoding\n",
        "with open('users.csv', 'r', encoding='utf-8') as file:\n",
        "    reader = csv.DictReader(file)\n",
        "    for row in reader:\n",
        "        location = row['location'].strip().lower()\n",
        "        # Check if the user is from zurich\n",
        "        if 'zurich' in location:\n",
        "            users_in_zurich.append({\n",
        "                'login': row['login'],\n",
        "                'created_at': datetime.strptime(row['created_at'], '%Y-%m-%dT%H:%M:%SZ')\n",
        "            })\n",
        "\n",
        "# Sort users based on created_at in ascending order\n",
        "sorted_users = sorted(users_in_zurich, key=lambda x: x['created_at'])\n",
        "\n",
        "# Extract the top 5 user logins\n",
        "top_5_earliest_logins = [user['login'] for user in sorted_users[:5]]\n",
        "\n",
        "# Print the result as a comma-separated list\n",
        "print(','.join(top_5_earliest_logins))\n"
      ],
      "metadata": {
        "colab": {
          "base_uri": "https://localhost:8080/"
        },
        "id": "oglDJ4NNwkYN",
        "outputId": "3aa85227-194b-41f4-f1d5-e210adb31119"
      },
      "execution_count": null,
      "outputs": [
        {
          "output_type": "stream",
          "name": "stdout",
          "text": [
            "lejoe,uwolfer,matthiask,oscardelben,pneff\n"
          ]
        }
      ]
    },
    {
      "cell_type": "markdown",
      "source": [
        "Question 3:\n"
      ],
      "metadata": {
        "id": "9-LF7APRKdJX"
      }
    },
    {
      "cell_type": "code",
      "source": [
        "import csv\n",
        "from collections import Counter\n",
        "\n",
        "# Define the list to store license names\n",
        "licenses = []\n",
        "\n",
        "# Read the CSV file with UTF-8 encoding\n",
        "with open('repositories.csv', 'r', encoding='utf-8') as file:\n",
        "    reader = csv.DictReader(file)\n",
        "    for row in reader:\n",
        "        # Check if the license_name field is present and not empty\n",
        "        license_name = row.get('license_name', '').strip()\n",
        "        if license_name:\n",
        "            licenses.append(license_name)\n",
        "\n",
        "# Count the occurrence of each license\n",
        "license_counts = Counter(licenses)\n",
        "\n",
        "# Get the 3 most common licenses\n",
        "top_3_licenses = [license for license, count in license_counts.most_common(3)]\n",
        "\n",
        "# Print the result as a comma-separated list\n",
        "print(','.join(top_3_licenses))"
      ],
      "metadata": {
        "colab": {
          "base_uri": "https://localhost:8080/"
        },
        "id": "Gufa6DPIwqAj",
        "outputId": "ff6b4bda-76b6-4442-c1c4-812cb61e9041"
      },
      "execution_count": null,
      "outputs": [
        {
          "output_type": "stream",
          "name": "stdout",
          "text": [
            "mit,other,apache-2.0\n"
          ]
        }
      ]
    },
    {
      "cell_type": "markdown",
      "source": [
        "Question 4:"
      ],
      "metadata": {
        "id": "OLSTP7xMKfw4"
      }
    },
    {
      "cell_type": "code",
      "source": [
        "import csv\n",
        "from collections import Counter\n",
        "\n",
        "# Define the list to store company names\n",
        "companies = []\n",
        "\n",
        "# Read the CSV file with UTF-8 encoding\n",
        "with open('users.csv', 'r', encoding='utf-8') as file:\n",
        "    reader = csv.DictReader(file)\n",
        "    for row in reader:\n",
        "        # Get and clean up the company field (ignore empty values)\n",
        "        company = row.get('company', '').strip()\n",
        "        if company:\n",
        "            companies.append(company)\n",
        "\n",
        "# Count the occurrence of each company\n",
        "company_counts = Counter(companies)\n",
        "\n",
        "# Find the most common company\n",
        "most_common_company = company_counts.most_common(1)\n",
        "\n",
        "# Print the result\n",
        "if most_common_company:\n",
        "    print(most_common_company[0][0])\n",
        "else:\n",
        "    print(\"No company data found.\")\n"
      ],
      "metadata": {
        "colab": {
          "base_uri": "https://localhost:8080/"
        },
        "id": "EMC8cQi2w4A8",
        "outputId": "bb7fac14-0693-47aa-bd5a-932a8a1d9b28"
      },
      "execution_count": null,
      "outputs": [
        {
          "output_type": "stream",
          "name": "stdout",
          "text": [
            "GOOGLE\n"
          ]
        }
      ]
    },
    {
      "cell_type": "markdown",
      "source": [
        "Question 5:"
      ],
      "metadata": {
        "id": "QmWunGRpKheC"
      }
    },
    {
      "cell_type": "code",
      "source": [
        "import csv\n",
        "from collections import Counter\n",
        "\n",
        "# Define the list to store programming languages\n",
        "languages = []\n",
        "\n",
        "# Read the CSV file with UTF-8 encoding\n",
        "with open('repositories.csv', 'r', encoding='utf-8') as file:\n",
        "    reader = csv.DictReader(file)\n",
        "    for row in reader:\n",
        "        # Get and clean up the language field (ignore empty values)\n",
        "        language = row.get('language', '').strip()\n",
        "        if language:\n",
        "            languages.append(language)\n",
        "\n",
        "# Count the occurrence of each language\n",
        "language_counts = Counter(languages)\n",
        "\n",
        "# Find the most common language\n",
        "most_common_language = language_counts.most_common(1)\n",
        "\n",
        "# Print the result\n",
        "if most_common_language:\n",
        "    print(most_common_language[0][0])\n",
        "else:\n",
        "    print(\"No language data found.\")\n"
      ],
      "metadata": {
        "colab": {
          "base_uri": "https://localhost:8080/"
        },
        "id": "UoMNOEGmw-u2",
        "outputId": "b397b844-2071-466d-860e-83d57e117336"
      },
      "execution_count": null,
      "outputs": [
        {
          "output_type": "stream",
          "name": "stdout",
          "text": [
            "Python\n"
          ]
        }
      ]
    },
    {
      "cell_type": "markdown",
      "source": [
        "Question 6:"
      ],
      "metadata": {
        "id": "jy3dzELlKjlU"
      }
    },
    {
      "cell_type": "code",
      "source": [
        "import csv\n",
        "from collections import Counter\n",
        "from datetime import datetime\n",
        "\n",
        "# Define the list to store programming languages\n",
        "languages = []\n",
        "\n",
        "# Read the CSV file with UTF-8 encoding\n",
        "with open('repositories.csv', 'r', encoding='utf-8') as file:\n",
        "    reader = csv.DictReader(file)\n",
        "\n",
        "    # Iterate through the rows in the CSV\n",
        "    for row in reader:\n",
        "        # Parse the created_at field\n",
        "        created_at = row.get('created_at', '').strip()\n",
        "\n",
        "        # Convert the date string to a datetime object\n",
        "        if created_at:\n",
        "            user_join_date = datetime.strptime(created_at, \"%Y-%m-%dT%H:%M:%SZ\")\n",
        "\n",
        "            # Check if the user joined after 2020\n",
        "            if user_join_date.year > 2020:\n",
        "                # Get the language field and clean it up\n",
        "                language = row.get('language', '').strip()\n",
        "                if language:\n",
        "                    languages.append(language)\n",
        "\n",
        "# Count the occurrence of each language\n",
        "language_counts = Counter(languages)\n",
        "\n",
        "# Find the two most common languages\n",
        "most_common_languages = language_counts.most_common(2)\n",
        "\n",
        "# Print the second most common language\n",
        "if len(most_common_languages) >= 2:\n",
        "    print(most_common_languages[1][0])  # Second most common language\n",
        "else:\n",
        "    print(\"Not enough language data found.\")\n"
      ],
      "metadata": {
        "colab": {
          "base_uri": "https://localhost:8080/"
        },
        "id": "4VBktWO2xPw8",
        "outputId": "7fc71469-6a95-4915-8fd5-f4160fcac42c"
      },
      "execution_count": null,
      "outputs": [
        {
          "output_type": "stream",
          "name": "stdout",
          "text": [
            "TypeScript\n"
          ]
        }
      ]
    },
    {
      "cell_type": "markdown",
      "source": [
        "Question 7:"
      ],
      "metadata": {
        "id": "G3mCF-YXKlpK"
      }
    },
    {
      "cell_type": "code",
      "source": [
        "import csv\n",
        "from collections import defaultdict\n",
        "\n",
        "# Define a dictionary to store total stars and repository count per language\n",
        "language_stats = defaultdict(lambda: {'stars': 0, 'repos': 0})\n",
        "\n",
        "# Read the CSV file with UTF-8 encoding\n",
        "with open('repositories.csv', 'r', encoding='utf-8') as file:\n",
        "    reader = csv.DictReader(file)\n",
        "\n",
        "    for row in reader:\n",
        "        # Get the language and stargazers_count field\n",
        "        language = row.get('language', '').strip()\n",
        "        stars = row.get('stargazers_count', '0').strip()\n",
        "\n",
        "        # Only process if language and stars are available\n",
        "        if language and stars.isdigit():\n",
        "            language_stats[language]['stars'] += int(stars)\n",
        "            language_stats[language]['repos'] += 1\n",
        "\n",
        "# Calculate average stars for each language\n",
        "average_stars_per_language = {\n",
        "    language: stats['stars'] / stats['repos']\n",
        "    for language, stats in language_stats.items()\n",
        "    if stats['repos'] > 0\n",
        "}\n",
        "\n",
        "# Find the language with the highest average stars\n",
        "if average_stars_per_language:\n",
        "    most_popular_language = max(average_stars_per_language, key=average_stars_per_language.get)\n",
        "    print(most_popular_language)\n",
        "else:\n",
        "    print(\"No language data found.\")\n"
      ],
      "metadata": {
        "colab": {
          "base_uri": "https://localhost:8080/"
        },
        "id": "xvSZpq6vxEdC",
        "outputId": "3fdba641-8863-4487-e395-fb9560ec19a4"
      },
      "execution_count": null,
      "outputs": [
        {
          "output_type": "stream",
          "name": "stdout",
          "text": [
            "BitBake\n"
          ]
        }
      ]
    },
    {
      "cell_type": "markdown",
      "source": [
        "Question 8:"
      ],
      "metadata": {
        "id": "cMg1zgAcKoUG"
      }
    },
    {
      "cell_type": "code",
      "source": [
        "import csv\n",
        "\n",
        "# Define a list to store users and their leader strength\n",
        "leader_strengths = []\n",
        "\n",
        "# Read the CSV file with UTF-8 encoding\n",
        "with open('users.csv', 'r', encoding='utf-8') as file:\n",
        "    reader = csv.DictReader(file)\n",
        "\n",
        "    for row in reader:\n",
        "        # Get followers and following counts\n",
        "        followers = int(row.get('followers', 0).strip())\n",
        "        following = int(row.get('following', 0).strip())\n",
        "\n",
        "        # Calculate leader strength\n",
        "        leader_strength = followers / (1 + following)\n",
        "\n",
        "        # Store the user's login and their leader strength\n",
        "        leader_strengths.append((row.get('login', ''), leader_strength))\n",
        "\n",
        "# Sort users by leader strength in descending order\n",
        "leader_strengths.sort(key=lambda x: x[1], reverse=True)\n",
        "\n",
        "# Get the top 5 users\n",
        "top_5_leaders = [login for login, strength in leader_strengths[:5]]\n",
        "\n",
        "# Print the result as a comma-separated list\n",
        "print(','.join(top_5_leaders))\n"
      ],
      "metadata": {
        "colab": {
          "base_uri": "https://localhost:8080/"
        },
        "id": "_nhLP4Upx7r7",
        "outputId": "2fca6d34-70c7-4a52-f915-dffc9b270a22"
      },
      "execution_count": null,
      "outputs": [
        {
          "output_type": "stream",
          "name": "stdout",
          "text": [
            "riscv,bpasero,Seldaek,egamma,ethz-asl\n"
          ]
        }
      ]
    },
    {
      "cell_type": "markdown",
      "source": [
        "Question 9:"
      ],
      "metadata": {
        "id": "ktelEdLgKqqN"
      }
    },
    {
      "cell_type": "code",
      "source": [
        "import csv\n",
        "import numpy as np\n",
        "\n",
        "# Lists to store the followers and public repos of users from Delhi\n",
        "followers = []\n",
        "public_repos = []\n",
        "\n",
        "# Open the users.csv file and read data\n",
        "with open('users.csv', 'r', encoding='utf-8') as file:\n",
        "    reader = csv.DictReader(file)\n",
        "\n",
        "    for row in reader:\n",
        "        # Filter for users in Delhi\n",
        "        location = row.get('location', '').strip().lower()\n",
        "        if \"zurich\" in location:\n",
        "            # Get followers and public repositories values\n",
        "            try:\n",
        "                followers_count = int(row['followers'])\n",
        "                public_repos_count = int(row['public_repos'])\n",
        "\n",
        "                # Append the valid values to the lists\n",
        "                followers.append(followers_count)\n",
        "                public_repos.append(public_repos_count)\n",
        "            except ValueError:\n",
        "                # Skip rows with invalid numerical values\n",
        "                continue\n",
        "\n",
        "# Ensure there is data to compute correlation\n",
        "if len(followers) > 1 and len(public_repos) > 1:\n",
        "    # Compute Pearson correlation coefficient\n",
        "    correlation_matrix = np.corrcoef(followers, public_repos)\n",
        "    correlation = correlation_matrix[0, 1]\n",
        "    # Output correlation rounded to 3 decimal places\n",
        "    print(f\"{correlation:.3f}\")\n",
        "else:\n",
        "    print(\"Insufficient data for correlation calculation.\")\n"
      ],
      "metadata": {
        "colab": {
          "base_uri": "https://localhost:8080/"
        },
        "id": "UBmqnOYFyEeL",
        "outputId": "98d92418-60e5-41d8-b7a8-d973009f8421"
      },
      "execution_count": null,
      "outputs": [
        {
          "output_type": "stream",
          "name": "stdout",
          "text": [
            "0.065\n"
          ]
        }
      ]
    },
    {
      "cell_type": "markdown",
      "source": [
        "Question 10:"
      ],
      "metadata": {
        "id": "xsoyyjd7KsY6"
      }
    },
    {
      "cell_type": "code",
      "source": [
        "import csv\n",
        "import numpy as np\n",
        "\n",
        "# Lists to store the followers and public repos of users from zurich\n",
        "followers = []\n",
        "public_repos = []\n",
        "\n",
        "# Open the users.csv file and read data\n",
        "with open('users.csv', 'r', encoding='utf-8') as file:\n",
        "    reader = csv.DictReader(file)\n",
        "\n",
        "    for row in reader:\n",
        "        # Filter for users in zurich\n",
        "        location = row.get('location', '').strip().lower()\n",
        "        if \"zurich\" in location:\n",
        "            # Get followers and public repositories values\n",
        "            try:\n",
        "                followers_count = int(row['followers'])\n",
        "                public_repos_count = int(row['public_repos'])\n",
        "\n",
        "                # Append the valid values to the lists\n",
        "                followers.append(followers_count)\n",
        "                public_repos.append(public_repos_count)\n",
        "            except ValueError:\n",
        "                # Skip rows with invalid numerical values\n",
        "                continue\n",
        "\n",
        "# Ensure there is data for regression\n",
        "if len(followers) > 1 and len(public_repos) > 1:\n",
        "    # Perform linear regression: followers ~ public_repos\n",
        "    slope, intercept = np.polyfit(public_repos, followers, 1)\n",
        "\n",
        "    # Output the slope rounded to 3 decimal places\n",
        "    print(f\"{slope:.3f}\")\n",
        "else:\n",
        "    print(\"Insufficient data for regression.\")\n"
      ],
      "metadata": {
        "colab": {
          "base_uri": "https://localhost:8080/"
        },
        "id": "ukO6qGdVyXtq",
        "outputId": "467a965a-dc7b-446d-9576-93dc5352f0c0"
      },
      "execution_count": null,
      "outputs": [
        {
          "output_type": "stream",
          "name": "stdout",
          "text": [
            "1.452\n"
          ]
        }
      ]
    },
    {
      "cell_type": "markdown",
      "source": [
        "Question 11:"
      ],
      "metadata": {
        "id": "fq0hO6tgKtuQ"
      }
    },
    {
      "cell_type": "code",
      "source": [
        "import pandas as pd\n",
        "import numpy as np\n",
        "\n",
        "def analyze_repo_features(csv_file):\n",
        "\n",
        "    df = pd.read_csv(csv_file)\n",
        "\n",
        "    if df['has_projects'].dtype == 'object':\n",
        "        df['has_projects'] = df['has_projects'].map({'true': True, 'false': False})\n",
        "    if df['has_wiki'].dtype == 'object':\n",
        "        df['has_wiki'] = df['has_wiki'].map({'true': True, 'false': False})\n",
        "\n",
        "    correlation = df['has_projects'].corr(df['has_wiki'])\n",
        "\n",
        "    stats = {\n",
        "        'total_repos': len(df),\n",
        "        'projects_enabled': df['has_projects'].sum(),\n",
        "        'wiki_enabled': df['has_wiki'].sum(),\n",
        "        'both_enabled': ((df['has_projects']) & (df['has_wiki'])).sum(),\n",
        "        'neither_enabled': ((~df['has_projects']) & (~df['has_wiki'])).sum()\n",
        "    }\n",
        "\n",
        "    return round(correlation, 3), stats\n",
        "\n",
        "correlation, stats = analyze_repo_features('repositories.csv')\n",
        "print(f\"Correlation coefficient: {correlation}\")\n",
        "print(\"\\nAdditional Statistics:\")\n",
        "for key, value in stats.items():\n",
        "    print(f\"{key}: {value}\")"
      ],
      "metadata": {
        "colab": {
          "base_uri": "https://localhost:8080/"
        },
        "id": "T7r1P7QzyiDN",
        "outputId": "ac188833-ecd1-4296-a76b-f79e3613df26"
      },
      "execution_count": null,
      "outputs": [
        {
          "output_type": "stream",
          "name": "stdout",
          "text": [
            "Correlation coefficient: 0.31\n",
            "\n",
            "Additional Statistics:\n",
            "total_repos: 29487\n",
            "projects_enabled: 28789\n",
            "wiki_enabled: 24990\n",
            "both_enabled: 24898\n",
            "neither_enabled: 606\n"
          ]
        }
      ]
    },
    {
      "cell_type": "markdown",
      "source": [
        "Question 12:"
      ],
      "metadata": {
        "id": "f6p6YHziKvHo"
      }
    },
    {
      "cell_type": "code",
      "source": [
        "import pandas as pd\n",
        "\n",
        "def analyze_following_difference(users_csv_path='users.csv'):\n",
        "    # Read the data\n",
        "    df = pd.read_csv(users_csv_path)\n",
        "\n",
        "    # Calculate average following for hireable users\n",
        "    hireable_following = df[df['hireable'] == True]['following'].mean()\n",
        "\n",
        "    # Calculate average following for non-hireable users\n",
        "    non_hireable_following = df[df['hireable'] != True]['following'].mean()\n",
        "\n",
        "    # Calculate the difference rounded to 3 decimal places\n",
        "    difference = round(hireable_following - non_hireable_following, 3)\n",
        "\n",
        "    # Print debug information\n",
        "    print(f\"Number of hireable users: {len(df[df['hireable'] == True])}\")\n",
        "    print(f\"Number of non-hireable users: {len(df[df['hireable'] != True])}\")\n",
        "    print(f\"Average following for hireable users: {hireable_following:.3f}\")\n",
        "    print(f\"Average following for non-hireable users: {non_hireable_following:.3f}\")\n",
        "\n",
        "    return difference\n",
        "\n",
        "# Calculate the difference\n",
        "result = analyze_following_difference()\n",
        "print(f\"\\nDifference in average following: {result:.3f}\")"
      ],
      "metadata": {
        "colab": {
          "base_uri": "https://localhost:8080/"
        },
        "id": "TS2ygJlZyrwa",
        "outputId": "87969811-317d-43da-ce9d-3238edd588f9"
      },
      "execution_count": null,
      "outputs": [
        {
          "output_type": "stream",
          "name": "stdout",
          "text": [
            "Number of hireable users: 105\n",
            "Number of non-hireable users: 376\n",
            "Average following for hireable users: 74.810\n",
            "Average following for non-hireable users: 908.077\n",
            "\n",
            "Difference in average following: -833.268\n"
          ]
        }
      ]
    },
    {
      "cell_type": "markdown",
      "source": [
        "Question 13:"
      ],
      "metadata": {
        "id": "gYCVTDhRKwJ9"
      }
    },
    {
      "cell_type": "code",
      "source": [
        "#Q13\n",
        "import pandas as pd\n",
        "import statsmodels.api as sm\n",
        "\n",
        "# Load the users data from the CSV file\n",
        "users_df = pd.read_csv('users.csv')\n",
        "\n",
        "# Filter out users without bios\n",
        "users_with_bios = users_df[users_df['bio'].notna()]\n",
        "\n",
        "# Calculate the length of the bio in words\n",
        "#users_with_bios['bio_word_count'] = users_with_bios['bio'].str.split(\" \").str.len()\n",
        "\n",
        "# Corrected line: Using 'users_with_bios' instead of 'users_with_bio'\n",
        "users_with_bios['bio_word_count'] = users_with_bios['bio'].apply(lambda x: len(x.split()))\n",
        "\n",
        "\n",
        "# Prepare the data for regression\n",
        "X = users_with_bios['bio_word_count']  # Independent variable\n",
        "y = users_with_bios['followers']        # Dependent variable\n",
        "\n",
        "# Add a constant to the independent variable for the regression\n",
        "X = sm.add_constant(X)\n",
        "\n",
        "# Fit the regression model\n",
        "model = sm.OLS(y, X).fit()\n",
        "\n",
        "# Get the regression slope (coefficient for bio_word_count)\n",
        "slope = model.params['bio_word_count']\n",
        "\n",
        "# Print the slope rounded to three decimal places\n",
        "print(f'Regression slope of followers on bio word count: {slope:.3f}')"
      ],
      "metadata": {
        "colab": {
          "base_uri": "https://localhost:8080/"
        },
        "id": "1rtCU-Mny4Vn",
        "outputId": "d61d94ec-b7e2-4efe-85dd-4cfd77afea63"
      },
      "execution_count": null,
      "outputs": [
        {
          "output_type": "stream",
          "name": "stdout",
          "text": [
            "Regression slope of followers on bio word count: 40.386\n"
          ]
        },
        {
          "output_type": "stream",
          "name": "stderr",
          "text": [
            "<ipython-input-29-9f43be246b5a>:15: SettingWithCopyWarning: \n",
            "A value is trying to be set on a copy of a slice from a DataFrame.\n",
            "Try using .loc[row_indexer,col_indexer] = value instead\n",
            "\n",
            "See the caveats in the documentation: https://pandas.pydata.org/pandas-docs/stable/user_guide/indexing.html#returning-a-view-versus-a-copy\n",
            "  users_with_bios['bio_word_count'] = users_with_bios['bio'].apply(lambda x: len(x.split()))\n"
          ]
        }
      ]
    },
    {
      "cell_type": "markdown",
      "source": [
        "Question 14:"
      ],
      "metadata": {
        "id": "wRvMe3DQKxZC"
      }
    },
    {
      "cell_type": "code",
      "source": [
        "import csv\n",
        "from collections import Counter\n",
        "from datetime import datetime\n",
        "\n",
        "# Counter to store the number of repositories created by each user on weekends\n",
        "weekend_repo_counts = Counter()\n",
        "\n",
        "# Open the repositories.csv file and read data\n",
        "with open('repositories.csv', 'r', encoding='utf-8') as file:\n",
        "    reader = csv.DictReader(file)\n",
        "\n",
        "    for row in reader:\n",
        "        created_at = row.get('created_at', '')\n",
        "        if created_at:\n",
        "            # Convert created_at string to a datetime object\n",
        "            created_date = datetime.fromisoformat(created_at[:-1])  # Remove 'Z' and convert\n",
        "\n",
        "            # Check if the day is Saturday (5) or Sunday (6)\n",
        "            if created_date.weekday() in [5, 6]:\n",
        "                user_login = row['login']\n",
        "                weekend_repo_counts[user_login] += 1  # Increment the count for the user\n",
        "\n",
        "# Get the top 5 users who created the most repositories on weekends\n",
        "top_users = weekend_repo_counts.most_common(5)\n",
        "\n",
        "# Extract the logins of the top users\n",
        "top_logins = [user[0] for user in top_users]\n",
        "\n",
        "# Output the top users' logins as a comma-separated string\n",
        "print(','.join(top_logins))\n"
      ],
      "metadata": {
        "colab": {
          "base_uri": "https://localhost:8080/"
        },
        "id": "unoK7HfRzLhq",
        "outputId": "2381eb35-b0d8-418f-9f31-41b6fe33b4f6"
      },
      "execution_count": null,
      "outputs": [
        {
          "output_type": "stream",
          "name": "stdout",
          "text": [
            "JonnyBurger,syzer,kynan,nicnocquee,zouzias\n"
          ]
        }
      ]
    },
    {
      "cell_type": "markdown",
      "source": [
        "Question 15:"
      ],
      "metadata": {
        "id": "_LpIn_DGKzP7"
      }
    },
    {
      "cell_type": "code",
      "source": [
        "import pandas as pd\n",
        "\n",
        "def analyze_email_sharing(users_csv_path='users.csv'):\n",
        "    # Read the complete CSV file\n",
        "    df = pd.read_csv(users_csv_path)\n",
        "\n",
        "    # Convert email column to boolean (True if email exists, False if NaN or empty)\n",
        "    df['has_email'] = df['email'].notna() & (df['email'] != '')\n",
        "\n",
        "    # Calculate for hireable users\n",
        "    hireable_mask = df['hireable'] == True\n",
        "    if hireable_mask.any():\n",
        "        hireable_email_fraction = df[hireable_mask]['has_email'].mean()\n",
        "    else:\n",
        "        hireable_email_fraction = 0\n",
        "\n",
        "    # Calculate for non-hireable users\n",
        "    non_hireable_mask = df['hireable'] != True\n",
        "    if non_hireable_mask.any():\n",
        "        non_hireable_email_fraction = df[non_hireable_mask]['has_email'].mean()\n",
        "    else:\n",
        "        non_hireable_email_fraction = 0\n",
        "\n",
        "    # Calculate difference and round to 3 decimal places\n",
        "    difference = round(hireable_email_fraction - non_hireable_email_fraction, 3)\n",
        "\n",
        "    # Print debug information\n",
        "    print(f\"Total users: {len(df)}\")\n",
        "    print(f\"Hireable users with email: {df[hireable_mask]['has_email'].sum()}/{hireable_mask.sum()}\")\n",
        "    print(f\"Non-hireable users with email: {df[non_hireable_mask]['has_email'].sum()}/{non_hireable_mask.sum()}\")\n",
        "    print(f\"Hireable fraction: {hireable_email_fraction:.3f}\")\n",
        "    print(f\"Non-hireable fraction: {non_hireable_email_fraction:.3f}\")\n",
        "\n",
        "    return difference\n",
        "\n",
        "# Read and analyze the complete dataset\n",
        "result = analyze_email_sharing()\n",
        "print(f\"\\nFinal result: {result:.3f}\")"
      ],
      "metadata": {
        "colab": {
          "base_uri": "https://localhost:8080/"
        },
        "id": "mC1BME6gzTI4",
        "outputId": "faaf969d-c5fe-4317-d5e8-0d32c8673cce"
      },
      "execution_count": null,
      "outputs": [
        {
          "output_type": "stream",
          "name": "stdout",
          "text": [
            "Total users: 481\n",
            "Hireable users with email: 55/105\n",
            "Non-hireable users with email: 174/376\n",
            "Hireable fraction: 0.524\n",
            "Non-hireable fraction: 0.463\n",
            "\n",
            "Final result: 0.061\n"
          ]
        }
      ]
    },
    {
      "cell_type": "markdown",
      "source": [
        "Question 16:"
      ],
      "metadata": {
        "id": "WaVk2foSK0dw"
      }
    },
    {
      "cell_type": "code",
      "source": [
        "import csv\n",
        "from collections import Counter\n",
        "\n",
        "# Counter to store surname frequencies\n",
        "surname_counter = Counter()\n",
        "\n",
        "# Open the users.csv file and read data\n",
        "with open('users.csv', 'r', encoding='utf-8') as file:\n",
        "    reader = csv.DictReader(file)\n",
        "\n",
        "    for row in reader:\n",
        "        name = row.get('name', '').strip()\n",
        "        if name:  # Ignore missing names\n",
        "            # Split the name by whitespace and get the last word as the surname\n",
        "            surname = name.split()[-1]\n",
        "            surname_counter[surname] += 1\n",
        "\n",
        "# Find the maximum frequency of surnames\n",
        "if surname_counter:\n",
        "    max_count = max(surname_counter.values())\n",
        "    # Get all surnames with the maximum frequency\n",
        "    most_common_surnames = [surname for surname, count in surname_counter.items() if count == max_count]\n",
        "    # Sort surnames alphabetically\n",
        "    most_common_surnames.sort()\n",
        "    # Output the result\n",
        "    print(f\"{', '.join(most_common_surnames)}: {max_count}\")\n",
        "else:\n",
        "    print(\"No names found.\")\n"
      ],
      "metadata": {
        "colab": {
          "base_uri": "https://localhost:8080/"
        },
        "id": "iQH8RXM7zYrb",
        "outputId": "8f724cdf-b41c-41b6-f32d-c40cf147b13a"
      },
      "execution_count": null,
      "outputs": [
        {
          "output_type": "stream",
          "name": "stdout",
          "text": [
            "Li, Wang: 4\n"
          ]
        }
      ]
    }
  ]
}